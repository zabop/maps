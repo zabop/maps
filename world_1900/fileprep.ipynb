{
 "cells": [
  {
   "cell_type": "code",
   "execution_count": 3,
   "id": "1a7c63b6-22a1-4553-a265-f09631c762e1",
   "metadata": {},
   "outputs": [
    {
     "name": "stdout",
     "output_type": "stream",
     "text": [
      "  % Total    % Received % Xferd  Average Speed   Time    Time     Time  Current\n",
      "                                 Dload  Upload   Total   Spent    Left  Speed\n",
      "100 1256k  100 1256k    0     0  5974k      0 --:--:-- --:--:-- --:--:-- 6098k\n"
     ]
    }
   ],
   "source": [
    "!curl https://raw.githubusercontent.com/aourednik/historical-basemaps/master/geojson/world_1900.geojson -o world_1900_not_filtered.geojson"
   ]
  },
  {
   "cell_type": "code",
   "execution_count": 4,
   "id": "ca698209-2b68-4be9-8c18-d28dfebde070",
   "metadata": {},
   "outputs": [
    {
     "name": "stdout",
     "output_type": "stream",
     "text": [
      "{\"type\":\"FeatureCollection\",\"name\":\"world_1900\",\"crs\":{\"type\":\"name\",\"properties\":{\"name\":\"urn:ogc:def:crs:OGC:1.3:CRS84\"}},\"features\":[{\"type\":\"Feature\",\"properties\":{\"NAME\":\"Luxembourg\",\"SUBJECTO\":\"Luxembourg\",\"BORDERPRECISION\":3,\"PARTOF\":\"Luxembourg\",\"ABBREVN\":\"Luxembourg\"},\"geometry\":{\"type\":\"MultiPolygon\",\"coordinates\":[[[[5.823500189391357,49.50710638614063],[5.884400400725585,49.66353567691211],[5.745062384215576,49.755260072664065],[5.737923655120117,49.90245779605274],[5.833756479827148,50.047408662751955],[5.94377568682788,50.11381109805469],[6.007444891539794,50.149974428132815],[6.108513388243896,50.11745413394336],[6.136599573699218,49.981978975251955],[6.321478399840576,49.84161337466602],[6.530922445861084,49.79842718692188],[6.511355433074218,49.668929658845705],[6.3994536729729,49.60418661685352],[6.433043036071044,49.445331178621096],[6.367956194487792,49.47348364444141],[6.112331900206787,49.47865255923633],[5.823500189391357,49.50710638614063]]]]}},{\"type\":\"Feature\""
     ]
    }
   ],
   "source": [
    "!head -c1000 world_1900_not_filtered.geojson"
   ]
  },
  {
   "cell_type": "code",
   "execution_count": 6,
   "id": "836f51b8-fc1f-43f3-8208-491188135425",
   "metadata": {},
   "outputs": [],
   "source": [
    "!rm -f world_1900.geojson\n",
    "!ogr2ogr -f GeoJSON world_1900.geojson world_1900_not_filtered.geojson -dialect sqlite -sql \"select geometry, NAME, SUBJECTO, PARTOF from world_1900\" -nln main"
   ]
  },
  {
   "cell_type": "code",
   "execution_count": 7,
   "id": "44adc383-87e0-4b8a-97fa-ab58886e019a",
   "metadata": {},
   "outputs": [],
   "source": [
    "!open ."
   ]
  },
  {
   "cell_type": "code",
   "execution_count": null,
   "id": "477adaf2-b929-436d-9e29-a785fde73922",
   "metadata": {},
   "outputs": [],
   "source": []
  }
 ],
 "metadata": {
  "kernelspec": {
   "display_name": "dev311_2",
   "language": "python",
   "name": "dev311_2"
  },
  "language_info": {
   "codemirror_mode": {
    "name": "ipython",
    "version": 3
   },
   "file_extension": ".py",
   "mimetype": "text/x-python",
   "name": "python",
   "nbconvert_exporter": "python",
   "pygments_lexer": "ipython3",
   "version": "3.11.3"
  }
 },
 "nbformat": 4,
 "nbformat_minor": 5
}
